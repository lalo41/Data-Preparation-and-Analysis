{
 "cells": [
  {
   "cell_type": "code",
   "execution_count": 3,
   "metadata": {},
   "outputs": [
    {
     "name": "stderr",
     "output_type": "stream",
     "text": [
      "/tmp/ipykernel_11668/1669820657.py:7: DtypeWarning: Columns (2,3,4,5,6,7) have mixed types. Specify dtype option on import or set low_memory=False.\n",
      "  df = pd.read_csv('household_power_consumption.txt', delimiter=';')\n"
     ]
    },
    {
     "data": {
      "text/html": [
       "<div>\n",
       "<style scoped>\n",
       "    .dataframe tbody tr th:only-of-type {\n",
       "        vertical-align: middle;\n",
       "    }\n",
       "\n",
       "    .dataframe tbody tr th {\n",
       "        vertical-align: top;\n",
       "    }\n",
       "\n",
       "    .dataframe thead th {\n",
       "        text-align: right;\n",
       "    }\n",
       "</style>\n",
       "<table border=\"1\" class=\"dataframe\">\n",
       "  <thead>\n",
       "    <tr style=\"text-align: right;\">\n",
       "      <th></th>\n",
       "      <th>Date</th>\n",
       "      <th>Time</th>\n",
       "      <th>Global_active_power</th>\n",
       "      <th>Global_reactive_power</th>\n",
       "      <th>Voltage</th>\n",
       "      <th>Global_intensity</th>\n",
       "      <th>Sub_metering_1</th>\n",
       "      <th>Sub_metering_2</th>\n",
       "      <th>Sub_metering_3</th>\n",
       "    </tr>\n",
       "  </thead>\n",
       "  <tbody>\n",
       "    <tr>\n",
       "      <th>0</th>\n",
       "      <td>16/12/2006</td>\n",
       "      <td>17:24:00</td>\n",
       "      <td>4.216</td>\n",
       "      <td>0.418</td>\n",
       "      <td>234.840</td>\n",
       "      <td>18.400</td>\n",
       "      <td>0.000</td>\n",
       "      <td>1.000</td>\n",
       "      <td>17.0</td>\n",
       "    </tr>\n",
       "    <tr>\n",
       "      <th>1</th>\n",
       "      <td>16/12/2006</td>\n",
       "      <td>17:25:00</td>\n",
       "      <td>5.360</td>\n",
       "      <td>0.436</td>\n",
       "      <td>233.630</td>\n",
       "      <td>23.000</td>\n",
       "      <td>0.000</td>\n",
       "      <td>1.000</td>\n",
       "      <td>16.0</td>\n",
       "    </tr>\n",
       "    <tr>\n",
       "      <th>2</th>\n",
       "      <td>16/12/2006</td>\n",
       "      <td>17:26:00</td>\n",
       "      <td>5.374</td>\n",
       "      <td>0.498</td>\n",
       "      <td>233.290</td>\n",
       "      <td>23.000</td>\n",
       "      <td>0.000</td>\n",
       "      <td>2.000</td>\n",
       "      <td>17.0</td>\n",
       "    </tr>\n",
       "    <tr>\n",
       "      <th>3</th>\n",
       "      <td>16/12/2006</td>\n",
       "      <td>17:27:00</td>\n",
       "      <td>5.388</td>\n",
       "      <td>0.502</td>\n",
       "      <td>233.740</td>\n",
       "      <td>23.000</td>\n",
       "      <td>0.000</td>\n",
       "      <td>1.000</td>\n",
       "      <td>17.0</td>\n",
       "    </tr>\n",
       "    <tr>\n",
       "      <th>4</th>\n",
       "      <td>16/12/2006</td>\n",
       "      <td>17:28:00</td>\n",
       "      <td>3.666</td>\n",
       "      <td>0.528</td>\n",
       "      <td>235.680</td>\n",
       "      <td>15.800</td>\n",
       "      <td>0.000</td>\n",
       "      <td>1.000</td>\n",
       "      <td>17.0</td>\n",
       "    </tr>\n",
       "  </tbody>\n",
       "</table>\n",
       "</div>"
      ],
      "text/plain": [
       "         Date      Time Global_active_power Global_reactive_power  Voltage  \\\n",
       "0  16/12/2006  17:24:00               4.216                 0.418  234.840   \n",
       "1  16/12/2006  17:25:00               5.360                 0.436  233.630   \n",
       "2  16/12/2006  17:26:00               5.374                 0.498  233.290   \n",
       "3  16/12/2006  17:27:00               5.388                 0.502  233.740   \n",
       "4  16/12/2006  17:28:00               3.666                 0.528  235.680   \n",
       "\n",
       "  Global_intensity Sub_metering_1 Sub_metering_2  Sub_metering_3  \n",
       "0           18.400          0.000          1.000            17.0  \n",
       "1           23.000          0.000          1.000            16.0  \n",
       "2           23.000          0.000          2.000            17.0  \n",
       "3           23.000          0.000          1.000            17.0  \n",
       "4           15.800          0.000          1.000            17.0  "
      ]
     },
     "execution_count": 3,
     "metadata": {},
     "output_type": "execute_result"
    }
   ],
   "source": [
    "import pandas as pd\n",
    "import numpy as np\n",
    "import time\n",
    "\n",
    "\n",
    "\n",
    "df = pd.read_csv('household_power_consumption.txt', delimiter=';')\n",
    "df.head()"
   ]
  },
  {
   "cell_type": "code",
   "execution_count": 4,
   "metadata": {},
   "outputs": [
    {
     "data": {
      "text/plain": [
       "Date                     datetime64[ns]\n",
       "Time                     datetime64[ns]\n",
       "Global_active_power             float64\n",
       "Global_reactive_power           float64\n",
       "Voltage                         float64\n",
       "Global_intensity                float64\n",
       "Sub_metering_1                  float64\n",
       "Sub_metering_2                  float64\n",
       "Sub_metering_3                  float64\n",
       "dtype: object"
      ]
     },
     "execution_count": 4,
     "metadata": {},
     "output_type": "execute_result"
    }
   ],
   "source": [
    "df= df.drop(df[df.isin(['?']).any(axis=1)].index)\n",
    "columns_to_convert = ['Global_active_power', 'Global_reactive_power', 'Voltage', 'Global_intensity', 'Sub_metering_1', 'Sub_metering_2']\n",
    "df[columns_to_convert] = df[columns_to_convert].astype(float)\n",
    "df['Date'] = pd.to_datetime(df['Date'], format='%d/%m/%Y')\n",
    "df['Time'] = pd.to_datetime(df['Time'], format='%H:%M:%S')\n",
    "df.dtypes\n",
    "\n",
    "\n"
   ]
  },
  {
   "cell_type": "markdown",
   "metadata": {},
   "source": [
    "1. Обрати всі домогосподарства, у яких загальна активна споживанапотужність перевищує 5 кВт."
   ]
  },
  {
   "cell_type": "code",
   "execution_count": null,
   "metadata": {},
   "outputs": [],
   "source": [
    "start_time = time.time()\n",
    "active_power = df[df[\"Global_active_power\"] > 5]\n",
    "execution_time = time.time() - start_time\n",
    "print(\"Час виконання алгоритму: %s секунд\" % execution_time)\n",
    "\n",
    "active_power.head()\n",
    "\n",
    "\n",
    "\n",
    "\n"
   ]
  },
  {
   "cell_type": "markdown",
   "metadata": {},
   "source": [
    "2. Обрати всі домогосподарства, у яких вольтаж перевищую 235 В."
   ]
  },
  {
   "cell_type": "code",
   "execution_count": null,
   "metadata": {},
   "outputs": [],
   "source": [
    "start_time = time.time()\n",
    "voltage = df[df[\"Voltage\"] > 235]\n",
    "execution_time = time.time() - start_time\n",
    "print(\"Час виконання алгоритму: %s секунд\" % execution_time)\n",
    "voltage.head()"
   ]
  },
  {
   "cell_type": "markdown",
   "metadata": {},
   "source": [
    "3. Обрати всі домогосподарства, у яких сила струму лежить в межах 19-20 А, для них виявити ті, у яких пральна машина та холодильних споживають більше, ніж бойлер та кондиціонер."
   ]
  },
  {
   "cell_type": "code",
   "execution_count": null,
   "metadata": {},
   "outputs": [],
   "source": [
    "start_time = time.time()\n",
    "intensity= df[(df[\"Global_intensity\"] > 19)&(df[\"Global_intensity\"] < 20)]\n",
    "sub_met2 = intensity[(intensity[\"Sub_metering_2\"]) > (intensity[\"Sub_metering_3\"]) ] \n",
    "execution_time = time.time() - start_time\n",
    "print(\"Час виконання алгоритму: %s секунд\" % execution_time)\n",
    "sub_met2.head()\n",
    "\n"
   ]
  },
  {
   "cell_type": "markdown",
   "metadata": {},
   "source": [
    "4.Обрати випадковим чином 500000 домогосподарств (без повторів елементів вибірки), для них обчислити середні величини усіх 3-х груп споживання електричної енергії"
   ]
  },
  {
   "cell_type": "code",
   "execution_count": null,
   "metadata": {},
   "outputs": [],
   "source": [
    "start_time = time.time()\n",
    "random_indexes = np.random.choice(df.index, size=500000, replace=True)\n",
    "random_households = df.loc[random_indexes]\n",
    "mean_sub_metering_1 = random_households['Sub_metering_1'].mean()\n",
    "mean_sub_metering_2 = random_households['Sub_metering_2'].mean()\n",
    "mean_sub_metering_3 = random_households['Sub_metering_3'].mean()\n",
    "execution_time = time.time() - start_time\n",
    "print(\"Час виконання алгоритму: %s секунд\" % execution_time)\n",
    "print(\"Середнє споживання електричної енергії для Sub_metering_1:\", mean_sub_metering_1)\n",
    "print(\"Середнє споживання електричної енергії для Sub_metering_2:\", mean_sub_metering_2)\n",
    "print(\"Середнє споживання електричної енергії для Sub_metering_3:\", mean_sub_metering_3)"
   ]
  },
  {
   "cell_type": "markdown",
   "metadata": {},
   "source": [
    "5. Обрати ті домогосподарства, які після 18-00 споживають понад 6\n",
    "кВт за хвилину в середньому, серед відібраних визначити ті, у яких\n",
    "основне споживання електроенергії у вказаний проміжок часу\n",
    "припадає на пральну машину, сушарку, холодильник та освітлення\n",
    "(група 2 є найбільшою), а потім обрати кожен третій результат із\n",
    "першої половини та кожен четвертий результат із другої половини."
   ]
  },
  {
   "cell_type": "code",
   "execution_count": null,
   "metadata": {},
   "outputs": [],
   "source": [
    "start_time = time.time()\n",
    "\n",
    "active_power = df[(df['Time'].dt.hour >= 18) & (df['Global_active_power'] > 6)]\n",
    "act_power_gr2  = active_power[(active_power[\"Sub_metering_2\"] > active_power[\"Sub_metering_1\"])\n",
    "                              &(active_power[\"Sub_metering_2\"]> active_power[\"Sub_metering_3\"])]\n",
    "first_half = act_power_gr2.iloc[:len(act_power_gr2)//2]  \n",
    "second_half = act_power_gr2.iloc[len(act_power_gr2)//2:] \n",
    "result = pd.concat([first_half.iloc[::3], second_half.iloc[::4]])\n",
    "execution_time = time.time() - start_time\n",
    "print(\"Час виконання алгоритму: %s секунд\" % execution_time)\n",
    "\n",
    "result.head()\n"
   ]
  },
  {
   "cell_type": "markdown",
   "metadata": {},
   "source": [
    "Виконання завдань з numpy array"
   ]
  },
  {
   "cell_type": "code",
   "execution_count": 1,
   "metadata": {},
   "outputs": [
    {
     "name": "stderr",
     "output_type": "stream",
     "text": [
      "/tmp/ipykernel_16222/1315686614.py:6: DtypeWarning: Columns (2,3,4,5,6,7) have mixed types. Specify dtype option on import or set low_memory=False.\n",
      "  df = pd.read_csv('household_power_consumption.txt', delimiter=';')\n"
     ]
    },
    {
     "name": "stdout",
     "output_type": "stream",
     "text": [
      "(2049280, 9)\n",
      "[Timestamp('2006-12-16 00:00:00') Timestamp('1900-01-01 17:24:00') 4.216\n",
      " 0.418 234.84 18.4 0.0 1.0 17.0]\n"
     ]
    }
   ],
   "source": [
    "import pandas as pd\n",
    "import numpy as np\n",
    "import time\n",
    "\n",
    "def create_df():\n",
    "    df = pd.read_csv('household_power_consumption.txt', delimiter=';')\n",
    "    df= df.drop(df[df.isin(['?']).any(axis=1)].index)\n",
    "    columns_to_convert = ['Global_active_power', 'Global_reactive_power', 'Voltage', 'Global_intensity', 'Sub_metering_1', 'Sub_metering_2']\n",
    "    df[columns_to_convert] = df[columns_to_convert].astype(float)\n",
    "    df['Date'] = pd.to_datetime(df['Date'], format='%d/%m/%Y')\n",
    "    df['Time'] = pd.to_datetime(df['Time'], format='%H:%M:%S')\n",
    "\n",
    "    return df\n",
    "\n",
    "df = create_df()\n",
    "datanp = df.to_numpy()\n",
    "print(datanp.shape)\n",
    "print(datanp[0])"
   ]
  },
  {
   "cell_type": "markdown",
   "metadata": {},
   "source": [
    "1. Обрати всі домогосподарства, у яких загальна активна споживана\n",
    "потужність перевищує 5 кВт."
   ]
  },
  {
   "cell_type": "code",
   "execution_count": 2,
   "metadata": {},
   "outputs": [
    {
     "name": "stdout",
     "output_type": "stream",
     "text": [
      "Час виконання алгоритму: 0.5815567970275879 секунд\n",
      "(17547, 9)\n",
      "[[Timestamp('2006-12-16 00:00:00') Timestamp('1900-01-01 17:25:00') 5.36\n",
      "  0.436 233.63 23.0 0.0 1.0 16.0]\n",
      " [Timestamp('2006-12-16 00:00:00') Timestamp('1900-01-01 17:26:00') 5.374\n",
      "  0.498 233.29 23.0 0.0 2.0 17.0]\n",
      " [Timestamp('2006-12-16 00:00:00') Timestamp('1900-01-01 17:27:00') 5.388\n",
      "  0.502 233.74 23.0 0.0 1.0 17.0]\n",
      " [Timestamp('2006-12-16 00:00:00') Timestamp('1900-01-01 17:35:00') 5.412\n",
      "  0.47 232.78 23.2 0.0 1.0 17.0]\n",
      " [Timestamp('2006-12-16 00:00:00') Timestamp('1900-01-01 17:36:00') 5.224\n",
      "  0.478 232.99 22.4 0.0 1.0 16.0]]\n"
     ]
    }
   ],
   "source": [
    "start_time = time.time()\n",
    "\n",
    "households_over_5kvt =datanp[datanp[:, 2] > 5]\n",
    "\n",
    "execution_time = time.time() - start_time\n",
    "print(\"Час виконання алгоритму: %s секунд\" % execution_time)\n",
    "print(households_over_5kvt.shape)\n",
    "print(households_over_5kvt[:5])\n"
   ]
  },
  {
   "cell_type": "markdown",
   "metadata": {},
   "source": [
    "2. Обрати всі домогосподарства, у яких вольтаж перевищую 235 В."
   ]
  },
  {
   "cell_type": "code",
   "execution_count": 3,
   "metadata": {},
   "outputs": [
    {
     "name": "stdout",
     "output_type": "stream",
     "text": [
      "Час виконання алгоритму: 2.787095069885254 секунд\n",
      "(1952491, 9)\n",
      "[[Timestamp('2006-12-16 00:00:00') Timestamp('1900-01-01 17:28:00') 3.666\n",
      "  0.528 235.68 15.8 0.0 1.0 17.0]\n",
      " [Timestamp('2006-12-16 00:00:00') Timestamp('1900-01-01 17:29:00') 3.52\n",
      "  0.522 235.02 15.0 0.0 2.0 17.0]\n",
      " [Timestamp('2006-12-16 00:00:00') Timestamp('1900-01-01 17:30:00') 3.702\n",
      "  0.52 235.09 15.8 0.0 1.0 17.0]\n",
      " [Timestamp('2006-12-16 00:00:00') Timestamp('1900-01-01 17:31:00') 3.7\n",
      "  0.52 235.22 15.8 0.0 1.0 17.0]\n",
      " [Timestamp('2006-12-16 00:00:00') Timestamp('1900-01-01 17:38:00') 4.054\n",
      "  0.422 235.24 17.6 0.0 1.0 17.0]]\n"
     ]
    }
   ],
   "source": [
    "start_time = time.time()\n",
    "voltage_over_235 = datanp[datanp[:,4] > 235]\n",
    "execution_time = time.time() - start_time\n",
    "print(\"Час виконання алгоритму: %s секунд\" % execution_time)\n",
    "print(voltage_over_235.shape)\n",
    "print(voltage_over_235[:5])"
   ]
  },
  {
   "cell_type": "markdown",
   "metadata": {},
   "source": [
    "3. Обрати всі домогосподарства, у яких сила струму лежить в межах\n",
    "19-20 А, для них виявити ті, у яких пральна машина та холодильних\n",
    "споживають більше, ніж бойлер та кондиціонер."
   ]
  },
  {
   "cell_type": "code",
   "execution_count": 4,
   "metadata": {},
   "outputs": [
    {
     "name": "stdout",
     "output_type": "stream",
     "text": [
      "Час виконання алгоритму: 0.6439249515533447 секунд\n",
      "(4707, 9)\n",
      "[[Timestamp('2006-12-16 00:00:00') Timestamp('1900-01-01 17:34:00') 4.448\n",
      "  0.498 232.86 19.6 0.0 1.0 17.0]\n",
      " [Timestamp('2006-12-16 00:00:00') Timestamp('1900-01-01 17:48:00') 4.474\n",
      "  0.0 234.96 19.4 0.0 0.0 17.0]\n",
      " [Timestamp('2006-12-16 00:00:00') Timestamp('1900-01-01 17:57:00') 4.512\n",
      "  0.0 233.62 19.2 0.0 0.0 17.0]\n",
      " [Timestamp('2006-12-16 00:00:00') Timestamp('1900-01-01 18:16:00') 4.524\n",
      "  0.076 234.2 19.6 0.0 9.0 17.0]\n",
      " [Timestamp('2006-12-16 00:00:00') Timestamp('1900-01-01 18:18:00') 4.472\n",
      "  0.0 233.29 19.2 0.0 1.0 16.0]]\n"
     ]
    }
   ],
   "source": [
    "start_time = time.time()\n",
    "intensity = datanp[(datanp[:,5] > 19)&(datanp[:,5] < 20)]\n",
    "execution_time = time.time() - start_time\n",
    "print(\"Час виконання алгоритму: %s секунд\" % execution_time)\n",
    "print(intensity.shape)\n",
    "print(intensity[:5])\n"
   ]
  },
  {
   "cell_type": "markdown",
   "metadata": {},
   "source": [
    "4. Обрати випадковим чином 500000 домогосподарств (без повторів\n",
    "елементів вибірки), для них обчислити середні величини усіх 3-х\n",
    "груп споживання електричної енергії"
   ]
  },
  {
   "cell_type": "code",
   "execution_count": 7,
   "metadata": {},
   "outputs": [
    {
     "ename": "SyntaxError",
     "evalue": "unmatched ')' (4085359944.py, line 2)",
     "output_type": "error",
     "traceback": [
      "\u001b[0;36m  Cell \u001b[0;32mIn[7], line 2\u001b[0;36m\u001b[0m\n\u001b[0;31m    random_indexes = np.random.choice(len(datanp)), size=500000, replace=True)\u001b[0m\n\u001b[0m                                                                             ^\u001b[0m\n\u001b[0;31mSyntaxError\u001b[0m\u001b[0;31m:\u001b[0m unmatched ')'\n"
     ]
    }
   ],
   "source": [
    "start_time = time.time()\n",
    "print()\n",
    "random_indexes = np.random.choice(len(datanp), size=500000, replace=True)\n",
    "random_households = datanp[random_indexes]\n",
    "mean_1 = np.mean(random_households[:,6])\n"
   ]
  },
  {
   "cell_type": "code",
   "execution_count": null,
   "metadata": {},
   "outputs": [],
   "source": []
  }
 ],
 "metadata": {
  "kernelspec": {
   "display_name": "Python 3 (ipykernel)",
   "language": "python",
   "name": "python3"
  },
  "language_info": {
   "codemirror_mode": {
    "name": "ipython",
    "version": 3
   },
   "file_extension": ".py",
   "mimetype": "text/x-python",
   "name": "python",
   "nbconvert_exporter": "python",
   "pygments_lexer": "ipython3",
   "version": "3.11.6"
  }
 },
 "nbformat": 4,
 "nbformat_minor": 4
}
