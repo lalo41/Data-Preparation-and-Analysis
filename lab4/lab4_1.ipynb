{
 "cells": [
  {
   "cell_type": "code",
   "execution_count": 1,
   "metadata": {},
   "outputs": [
    {
     "data": {
      "text/html": [
       "<div>\n",
       "<style scoped>\n",
       "    .dataframe tbody tr th:only-of-type {\n",
       "        vertical-align: middle;\n",
       "    }\n",
       "\n",
       "    .dataframe tbody tr th {\n",
       "        vertical-align: top;\n",
       "    }\n",
       "\n",
       "    .dataframe thead th {\n",
       "        text-align: right;\n",
       "    }\n",
       "</style>\n",
       "<table border=\"1\" class=\"dataframe\">\n",
       "  <thead>\n",
       "    <tr style=\"text-align: right;\">\n",
       "      <th></th>\n",
       "      <th>Date</th>\n",
       "      <th>Time</th>\n",
       "      <th>Global_active_power</th>\n",
       "      <th>Global_reactive_power</th>\n",
       "      <th>Voltage</th>\n",
       "      <th>Global_intensity</th>\n",
       "      <th>Sub_metering_1</th>\n",
       "      <th>Sub_metering_2</th>\n",
       "      <th>Sub_metering_3</th>\n",
       "    </tr>\n",
       "  </thead>\n",
       "  <tbody>\n",
       "    <tr>\n",
       "      <th>0</th>\n",
       "      <td>16/12/2006</td>\n",
       "      <td>17:24:00</td>\n",
       "      <td>4.216</td>\n",
       "      <td>0.418</td>\n",
       "      <td>234.840</td>\n",
       "      <td>18.400</td>\n",
       "      <td>0.000</td>\n",
       "      <td>1.000</td>\n",
       "      <td>17.0</td>\n",
       "    </tr>\n",
       "    <tr>\n",
       "      <th>1</th>\n",
       "      <td>16/12/2006</td>\n",
       "      <td>17:25:00</td>\n",
       "      <td>5.360</td>\n",
       "      <td>0.436</td>\n",
       "      <td>233.630</td>\n",
       "      <td>23.000</td>\n",
       "      <td>0.000</td>\n",
       "      <td>1.000</td>\n",
       "      <td>16.0</td>\n",
       "    </tr>\n",
       "    <tr>\n",
       "      <th>2</th>\n",
       "      <td>16/12/2006</td>\n",
       "      <td>17:26:00</td>\n",
       "      <td>5.374</td>\n",
       "      <td>0.498</td>\n",
       "      <td>233.290</td>\n",
       "      <td>23.000</td>\n",
       "      <td>0.000</td>\n",
       "      <td>2.000</td>\n",
       "      <td>17.0</td>\n",
       "    </tr>\n",
       "    <tr>\n",
       "      <th>3</th>\n",
       "      <td>16/12/2006</td>\n",
       "      <td>17:27:00</td>\n",
       "      <td>5.388</td>\n",
       "      <td>0.502</td>\n",
       "      <td>233.740</td>\n",
       "      <td>23.000</td>\n",
       "      <td>0.000</td>\n",
       "      <td>1.000</td>\n",
       "      <td>17.0</td>\n",
       "    </tr>\n",
       "    <tr>\n",
       "      <th>4</th>\n",
       "      <td>16/12/2006</td>\n",
       "      <td>17:28:00</td>\n",
       "      <td>3.666</td>\n",
       "      <td>0.528</td>\n",
       "      <td>235.680</td>\n",
       "      <td>15.800</td>\n",
       "      <td>0.000</td>\n",
       "      <td>1.000</td>\n",
       "      <td>17.0</td>\n",
       "    </tr>\n",
       "  </tbody>\n",
       "</table>\n",
       "</div>"
      ],
      "text/plain": [
       "         Date      Time Global_active_power Global_reactive_power  Voltage  \\\n",
       "0  16/12/2006  17:24:00               4.216                 0.418  234.840   \n",
       "1  16/12/2006  17:25:00               5.360                 0.436  233.630   \n",
       "2  16/12/2006  17:26:00               5.374                 0.498  233.290   \n",
       "3  16/12/2006  17:27:00               5.388                 0.502  233.740   \n",
       "4  16/12/2006  17:28:00               3.666                 0.528  235.680   \n",
       "\n",
       "  Global_intensity Sub_metering_1 Sub_metering_2  Sub_metering_3  \n",
       "0           18.400          0.000          1.000            17.0  \n",
       "1           23.000          0.000          1.000            16.0  \n",
       "2           23.000          0.000          2.000            17.0  \n",
       "3           23.000          0.000          1.000            17.0  \n",
       "4           15.800          0.000          1.000            17.0  "
      ]
     },
     "execution_count": 1,
     "metadata": {},
     "output_type": "execute_result"
    }
   ],
   "source": [
    "import pandas as pd\n",
    "import numpy as np\n",
    "import time\n",
    "\n",
    "\n",
    "\n",
    "df = pd.read_csv('household_power_consumption.txt', delimiter=';', low_memory=False)\n",
    "df.head()"
   ]
  },
  {
   "cell_type": "code",
   "execution_count": 2,
   "metadata": {},
   "outputs": [
    {
     "data": {
      "text/html": [
       "<div>\n",
       "<style scoped>\n",
       "    .dataframe tbody tr th:only-of-type {\n",
       "        vertical-align: middle;\n",
       "    }\n",
       "\n",
       "    .dataframe tbody tr th {\n",
       "        vertical-align: top;\n",
       "    }\n",
       "\n",
       "    .dataframe thead th {\n",
       "        text-align: right;\n",
       "    }\n",
       "</style>\n",
       "<table border=\"1\" class=\"dataframe\">\n",
       "  <thead>\n",
       "    <tr style=\"text-align: right;\">\n",
       "      <th></th>\n",
       "      <th>Date</th>\n",
       "      <th>Time</th>\n",
       "      <th>Global_active_power</th>\n",
       "      <th>Global_reactive_power</th>\n",
       "      <th>Voltage</th>\n",
       "      <th>Global_intensity</th>\n",
       "      <th>Sub_metering_1</th>\n",
       "      <th>Sub_metering_2</th>\n",
       "      <th>Sub_metering_3</th>\n",
       "    </tr>\n",
       "  </thead>\n",
       "  <tbody>\n",
       "    <tr>\n",
       "      <th>0</th>\n",
       "      <td>2006-12-16</td>\n",
       "      <td>17:24:00</td>\n",
       "      <td>4.216</td>\n",
       "      <td>0.418</td>\n",
       "      <td>234.84</td>\n",
       "      <td>18.4</td>\n",
       "      <td>0.0</td>\n",
       "      <td>1.0</td>\n",
       "      <td>17.0</td>\n",
       "    </tr>\n",
       "    <tr>\n",
       "      <th>1</th>\n",
       "      <td>2006-12-16</td>\n",
       "      <td>17:25:00</td>\n",
       "      <td>5.360</td>\n",
       "      <td>0.436</td>\n",
       "      <td>233.63</td>\n",
       "      <td>23.0</td>\n",
       "      <td>0.0</td>\n",
       "      <td>1.0</td>\n",
       "      <td>16.0</td>\n",
       "    </tr>\n",
       "    <tr>\n",
       "      <th>2</th>\n",
       "      <td>2006-12-16</td>\n",
       "      <td>17:26:00</td>\n",
       "      <td>5.374</td>\n",
       "      <td>0.498</td>\n",
       "      <td>233.29</td>\n",
       "      <td>23.0</td>\n",
       "      <td>0.0</td>\n",
       "      <td>2.0</td>\n",
       "      <td>17.0</td>\n",
       "    </tr>\n",
       "    <tr>\n",
       "      <th>3</th>\n",
       "      <td>2006-12-16</td>\n",
       "      <td>17:27:00</td>\n",
       "      <td>5.388</td>\n",
       "      <td>0.502</td>\n",
       "      <td>233.74</td>\n",
       "      <td>23.0</td>\n",
       "      <td>0.0</td>\n",
       "      <td>1.0</td>\n",
       "      <td>17.0</td>\n",
       "    </tr>\n",
       "    <tr>\n",
       "      <th>4</th>\n",
       "      <td>2006-12-16</td>\n",
       "      <td>17:28:00</td>\n",
       "      <td>3.666</td>\n",
       "      <td>0.528</td>\n",
       "      <td>235.68</td>\n",
       "      <td>15.8</td>\n",
       "      <td>0.0</td>\n",
       "      <td>1.0</td>\n",
       "      <td>17.0</td>\n",
       "    </tr>\n",
       "  </tbody>\n",
       "</table>\n",
       "</div>"
      ],
      "text/plain": [
       "        Date      Time  Global_active_power  Global_reactive_power  Voltage  \\\n",
       "0 2006-12-16  17:24:00                4.216                  0.418   234.84   \n",
       "1 2006-12-16  17:25:00                5.360                  0.436   233.63   \n",
       "2 2006-12-16  17:26:00                5.374                  0.498   233.29   \n",
       "3 2006-12-16  17:27:00                5.388                  0.502   233.74   \n",
       "4 2006-12-16  17:28:00                3.666                  0.528   235.68   \n",
       "\n",
       "   Global_intensity  Sub_metering_1  Sub_metering_2  Sub_metering_3  \n",
       "0              18.4             0.0             1.0            17.0  \n",
       "1              23.0             0.0             1.0            16.0  \n",
       "2              23.0             0.0             2.0            17.0  \n",
       "3              23.0             0.0             1.0            17.0  \n",
       "4              15.8             0.0             1.0            17.0  "
      ]
     },
     "execution_count": 2,
     "metadata": {},
     "output_type": "execute_result"
    }
   ],
   "source": [
    "df= df.drop(df[df.isin(['?']).any(axis=1)].index)\n",
    "columns_to_convert = ['Global_active_power', 'Global_reactive_power', 'Voltage', 'Global_intensity', 'Sub_metering_1', 'Sub_metering_2']\n",
    "df[columns_to_convert] = df[columns_to_convert].astype(float)\n",
    "df['Date'] = pd.to_datetime(df['Date'], format='%d/%m/%Y')\n",
    "#df['Time'] = pd.to_datetime(df['Time'], format='%H:%M:%S')\n",
    "df.dtypes\n",
    "df.head()\n",
    "\n"
   ]
  },
  {
   "cell_type": "markdown",
   "metadata": {},
   "source": [
    "1. Обрати всі домогосподарства, у яких загальна активна споживанапотужність перевищує 5 кВт."
   ]
  },
  {
   "cell_type": "code",
   "execution_count": 3,
   "metadata": {},
   "outputs": [
    {
     "name": "stdout",
     "output_type": "stream",
     "text": [
      "Час виконання алгоритму: 0.12074685096740723 секунд\n"
     ]
    }
   ],
   "source": [
    "start_time = time.time()\n",
    "active_power = df[df[\"Global_active_power\"] > 5]\n",
    "execution_time = time.time() - start_time\n",
    "print(\"Час виконання алгоритму: %s секунд\" % execution_time)\n",
    "\n",
    "active_power.head()\n",
    "\n",
    "execution_time_pandas = []\n",
    "execution_time_pandas.append(execution_time)\n",
    "\n",
    "\n",
    "\n"
   ]
  },
  {
   "cell_type": "markdown",
   "metadata": {},
   "source": [
    "2. Обрати всі домогосподарства, у яких вольтаж перевищую 235 В."
   ]
  },
  {
   "cell_type": "code",
   "execution_count": 4,
   "metadata": {},
   "outputs": [
    {
     "name": "stdout",
     "output_type": "stream",
     "text": [
      "Час виконання алгоритму: 0.13515734672546387 секунд\n"
     ]
    }
   ],
   "source": [
    "start_time = time.time()\n",
    "voltage = df[df[\"Voltage\"] > 235]\n",
    "execution_time = time.time() - start_time\n",
    "print(\"Час виконання алгоритму: %s секунд\" % execution_time)\n",
    "voltage.head()\n",
    "\n",
    "execution_time_pandas.append(execution_time)\n"
   ]
  },
  {
   "cell_type": "markdown",
   "metadata": {},
   "source": [
    "3. Обрати всі домогосподарства, у яких сила струму лежить в межах 19-20 А, для них виявити ті, у яких пральна машина та холодильних споживають більше, ніж бойлер та кондиціонер."
   ]
  },
  {
   "cell_type": "code",
   "execution_count": 5,
   "metadata": {},
   "outputs": [
    {
     "name": "stdout",
     "output_type": "stream",
     "text": [
      "Час виконання алгоритму: 0.014146566390991211 секунд\n"
     ]
    }
   ],
   "source": [
    "start_time = time.time()\n",
    "intensity= df[(df[\"Global_intensity\"] > 19)&(df[\"Global_intensity\"] < 20)]\n",
    "sub_met2 = intensity[(intensity[\"Sub_metering_2\"]) > (intensity[\"Sub_metering_3\"]) ] \n",
    "execution_time = time.time() - start_time\n",
    "print(\"Час виконання алгоритму: %s секунд\" % execution_time)\n",
    "sub_met2.head()\n",
    "\n",
    "execution_time_pandas.append(execution_time)\n",
    "\n"
   ]
  },
  {
   "cell_type": "markdown",
   "metadata": {},
   "source": [
    "4.Обрати випадковим чином 500000 домогосподарств (без повторів елементів вибірки), для них обчислити середні величини усіх 3-х груп споживання електричної енергії"
   ]
  },
  {
   "cell_type": "code",
   "execution_count": 6,
   "metadata": {},
   "outputs": [
    {
     "name": "stdout",
     "output_type": "stream",
     "text": [
      "Час виконання алгоритму: 0.7584390640258789 секунд\n",
      "Середнє споживання електричної енергії для Sub_metering_1: 1.116072\n",
      "Середнє споживання електричної енергії для Sub_metering_2: 1.292458\n",
      "Середнє споживання електричної енергії для Sub_metering_3: 6.457508\n"
     ]
    }
   ],
   "source": [
    "start_time = time.time()\n",
    "random_indexes = np.random.choice(df.index, size=500000, replace=True)\n",
    "random_households = df.loc[random_indexes]\n",
    "mean_sub_metering_1 = random_households['Sub_metering_1'].mean()\n",
    "mean_sub_metering_2 = random_households['Sub_metering_2'].mean()\n",
    "mean_sub_metering_3 = random_households['Sub_metering_3'].mean()\n",
    "execution_time = time.time() - start_time\n",
    "print(\"Час виконання алгоритму: %s секунд\" % execution_time)\n",
    "print(\"Середнє споживання електричної енергії для Sub_metering_1:\", mean_sub_metering_1)\n",
    "print(\"Середнє споживання електричної енергії для Sub_metering_2:\", mean_sub_metering_2)\n",
    "print(\"Середнє споживання електричної енергії для Sub_metering_3:\", mean_sub_metering_3)\n",
    "\n",
    "\n",
    "execution_time_pandas.append(execution_time)\n"
   ]
  },
  {
   "cell_type": "markdown",
   "metadata": {},
   "source": [
    "5. Обрати ті домогосподарства, які після 18-00 споживають понад 6\n",
    "кВт за хвилину в середньому, серед відібраних визначити ті, у яких\n",
    "основне споживання електроенергії у вказаний проміжок часу\n",
    "припадає на пральну машину, сушарку, холодильник та освітлення\n",
    "(група 2 є найбільшою), а потім обрати кожен третій результат із\n",
    "першої половини та кожен четвертий результат із другої половини."
   ]
  },
  {
   "cell_type": "code",
   "execution_count": 7,
   "metadata": {},
   "outputs": [
    {
     "name": "stdout",
     "output_type": "stream",
     "text": [
      "Час виконання алгоритму: 0.16016793251037598 секунд\n"
     ]
    }
   ],
   "source": [
    "start_time = time.time()\n",
    "\n",
    "active_power = df[(df['Time'] >= '18:00:00') & (df['Global_active_power'] > 6)]\n",
    "act_power_gr2  = active_power[(active_power[\"Sub_metering_2\"] > active_power[\"Sub_metering_1\"])\n",
    "                              &(active_power[\"Sub_metering_2\"]> active_power[\"Sub_metering_3\"])]\n",
    "first_half = act_power_gr2.iloc[:len(act_power_gr2)//2]\n",
    "second_half = act_power_gr2.iloc[len(act_power_gr2)//2:] \n",
    "result = pd.concat([first_half.iloc[::3], second_half.iloc[::4]])\n",
    "execution_time = time.time() - start_time\n",
    "print(\"Час виконання алгоритму: %s секунд\" % execution_time)\n",
    "\n",
    "result.head()\n",
    "\n",
    "execution_time_pandas.append(execution_time)\n"
   ]
  },
  {
   "cell_type": "markdown",
   "metadata": {},
   "source": [
    "<font size=\"5\">**Виконання завдань з numpy array**</font>"
   ]
  },
  {
   "cell_type": "code",
   "execution_count": 8,
   "metadata": {},
   "outputs": [],
   "source": [
    "import numpy as np\n",
    "\n",
    "datanp = np.genfromtxt('household_power_consumption.txt', delimiter=\";\", dtype=str)\n",
    "\n"
   ]
  },
  {
   "cell_type": "code",
   "execution_count": 10,
   "metadata": {},
   "outputs": [],
   "source": [
    "\n",
    "datanp = datanp[1:]  \n",
    "\n",
    "mask = np.any(datanp == \"?\", axis=1)\n",
    "\n",
    "datanp = datanp[~mask]"
   ]
  },
  {
   "cell_type": "markdown",
   "metadata": {},
   "source": [
    "<font size=\"4\">**1. Обрати всі домогосподарства, у яких загальна активна споживана\n",
    "потужність перевищує 5 кВт.**</font>"
   ]
  },
  {
   "cell_type": "code",
   "execution_count": 11,
   "metadata": {},
   "outputs": [
    {
     "name": "stdout",
     "output_type": "stream",
     "text": [
      "(17547, 9)\n",
      "[['16/12/2006' '17:25:00' '5.360' '0.436' '233.630' '23.000' '0.000'\n",
      "  '1.000' '16.000']\n",
      " ['16/12/2006' '17:26:00' '5.374' '0.498' '233.290' '23.000' '0.000'\n",
      "  '2.000' '17.000']\n",
      " ['16/12/2006' '17:27:00' '5.388' '0.502' '233.740' '23.000' '0.000'\n",
      "  '1.000' '17.000']]\n"
     ]
    }
   ],
   "source": [
    "import time\n",
    "\n",
    "start_time = time.time()\n",
    "third_column = datanp[:, 2].astype(float)\n",
    "households_over_5kvt = datanp[third_column > 5]\n",
    "execution_time = time.time() - start_time\n",
    "\n",
    "print(households_over_5kvt.shape)\n",
    "print(households_over_5kvt[:3])\n",
    "\n",
    "execution_time_numpy = []\n",
    "execution_time_numpy.append(execution_time)"
   ]
  },
  {
   "cell_type": "markdown",
   "metadata": {},
   "source": [
    "<font size=\"4\">**2. Обрати всі домогосподарства, у яких вольтаж перевищую 235 В.**</font>"
   ]
  },
  {
   "cell_type": "code",
   "execution_count": 12,
   "metadata": {},
   "outputs": [
    {
     "name": "stdout",
     "output_type": "stream",
     "text": [
      "Час виконання алгоритму: 1.986511468887329 секунд\n",
      "(1952491, 9)\n",
      "[['16/12/2006' '17:28:00' '3.666' '0.528' '235.680' '15.800' '0.000'\n",
      "  '1.000' '17.000']\n",
      " ['16/12/2006' '17:29:00' '3.520' '0.522' '235.020' '15.000' '0.000'\n",
      "  '2.000' '17.000']\n",
      " ['16/12/2006' '17:30:00' '3.702' '0.520' '235.090' '15.800' '0.000'\n",
      "  '1.000' '17.000']\n",
      " ['16/12/2006' '17:31:00' '3.700' '0.520' '235.220' '15.800' '0.000'\n",
      "  '1.000' '17.000']\n",
      " ['16/12/2006' '17:38:00' '4.054' '0.422' '235.240' '17.600' '0.000'\n",
      "  '1.000' '17.000']]\n"
     ]
    }
   ],
   "source": [
    "start_time = time.time()\n",
    "voltage_over_235 = datanp[datanp[:,4].astype(float) > 235]\n",
    "execution_time = time.time() - start_time\n",
    "print(\"Час виконання алгоритму: %s секунд\" % execution_time)\n",
    "print(voltage_over_235.shape)\n",
    "print(voltage_over_235[:5])\n",
    "execution_time_numpy.append(execution_time)\n"
   ]
  },
  {
   "cell_type": "markdown",
   "metadata": {},
   "source": [
    "<font size=\"4\">**3. Обрати всі домогосподарства, у яких сила струму лежить в межах\n",
    "19-20 А, для них виявити ті, у яких пральна машина та холодильних\n",
    "споживають більше, ніж бойлер та кондиціонер.**</font>"
   ]
  },
  {
   "cell_type": "code",
   "execution_count": 13,
   "metadata": {},
   "outputs": [
    {
     "name": "stdout",
     "output_type": "stream",
     "text": [
      "Час виконання алгоритму: 2.6711955070495605 секунд\n",
      "(4707, 9)\n",
      "[['16/12/2006' '17:34:00' '4.448' '0.498' '232.860' '19.600' '0.000'\n",
      "  '1.000' '17.000']\n",
      " ['16/12/2006' '17:48:00' '4.474' '0.000' '234.960' '19.400' '0.000'\n",
      "  '0.000' '17.000']\n",
      " ['16/12/2006' '17:57:00' '4.512' '0.000' '233.620' '19.200' '0.000'\n",
      "  '0.000' '17.000']\n",
      " ['16/12/2006' '18:16:00' '4.524' '0.076' '234.200' '19.600' '0.000'\n",
      "  '9.000' '17.000']\n",
      " ['16/12/2006' '18:18:00' '4.472' '0.000' '233.290' '19.200' '0.000'\n",
      "  '1.000' '16.000']]\n"
     ]
    }
   ],
   "source": [
    "start_time = time.time()\n",
    "intensity = datanp[(datanp[:,5].astype(float) > 19)&(datanp[:,5].astype(float) < 20)]\n",
    "execution_time = time.time() - start_time\n",
    "print(\"Час виконання алгоритму: %s секунд\" % execution_time)\n",
    "print(intensity.shape)\n",
    "print(intensity[:5])\n",
    "execution_time_numpy.append(execution_time)"
   ]
  },
  {
   "cell_type": "markdown",
   "metadata": {},
   "source": [
    "<font size=\"4\">**4. Обрати випадковим чином 500000 домогосподарств (без повторів\n",
    "елементів вибірки), для них обчислити середні величини усіх 3-х\n",
    "груп споживання електричної енергії**</font>"
   ]
  },
  {
   "cell_type": "code",
   "execution_count": 14,
   "metadata": {},
   "outputs": [
    {
     "name": "stdout",
     "output_type": "stream",
     "text": [
      "Час виконання алгоритму: 2.0261011123657227 секунд\n",
      "Середнє споживання електричної енергії для Sub_metering_1: 1.126976\n",
      "Середнє споживання електричної енергії для Sub_metering_2: 1.30593\n",
      "Середнє споживання електричної енергії для Sub_metering_3: 6.467156\n"
     ]
    }
   ],
   "source": [
    "start_time = time.time()\n",
    "\n",
    "random_indexes = np.random.choice(len(datanp), size=500000, replace=True)\n",
    "random_households = datanp[random_indexes]\n",
    "\n",
    "mean_sub1 = np.mean(random_households[:,6].astype(float))\n",
    "mean_sub2 = np.mean(random_households[:,7].astype(float))\n",
    "mean_sub3 = np.mean(random_households[:,8].astype(float))\n",
    "\n",
    "execution_time = time.time() - start_time\n",
    "\n",
    "print(\"Час виконання алгоритму: %s секунд\" % execution_time)\n",
    "print(\"Середнє споживання електричної енергії для Sub_metering_1:\", mean_sub1)\n",
    "print(\"Середнє споживання електричної енергії для Sub_metering_2:\", mean_sub2)\n",
    "print(\"Середнє споживання електричної енергії для Sub_metering_3:\", mean_sub3)\n",
    "execution_time_numpy.append(execution_time)\n"
   ]
  },
  {
   "cell_type": "markdown",
   "metadata": {},
   "source": [
    "<font size=\"4\">**5. Обрати ті домогосподарства, які після 18-00 споживають понад 6\n",
    "кВт за хвилину в середньому, серед відібраних визначити ті, у яких\n",
    "основне споживання електроенергії у вказаний проміжок часу\n",
    "припадає на пральну машину, сушарку, холодильник та освітлення\n",
    "(група 2 є найбільшою), а потім обрати кожен третій результат із\n",
    "першої половини та кожен четвертий результат із другої половини.**</font>"
   ]
  },
  {
   "cell_type": "code",
   "execution_count": 15,
   "metadata": {},
   "outputs": [
    {
     "name": "stdout",
     "output_type": "stream",
     "text": [
      "[['16/12/2006' '18:05:00' '6.052' '0.192' '232.930' '26.200' '0.000'\n",
      "  '37.000' '17.000']\n",
      " ['16/12/2006' '18:08:00' '6.308' '0.116' '232.250' '27.000' '0.000'\n",
      "  '36.000' '17.000']\n",
      " ['28/12/2006' '20:58:00' '6.386' '0.374' '236.630' '27.000' '1.000'\n",
      "  '36.000' '17.000']]\n"
     ]
    }
   ],
   "source": [
    "filtered_data = datanp[(datanp[:, 1] > '18:00:00') & (datanp[:, 2].astype(float) > 6)]\n",
    "\n",
    "selected_data = filtered_data[(filtered_data[:, 7].astype(float) > filtered_data[:, 6].astype(float))\n",
    "& (filtered_data[:, 7].astype(float) > filtered_data[:, 8].astype(float))]\n",
    "\n",
    "first_half = selected_data[:len(selected_data) // 2]\n",
    "second_half = selected_data[len(selected_data) // 2:]\n",
    "\n",
    "every_third = first_half[::3]\n",
    "every_fourth = second_half[::4]\n",
    "\n",
    "result = np.concatenate([every_third, every_fourth])\n",
    "\n",
    "print(result[0:3])\n",
    "\n",
    "execution_time_numpy.append(execution_time)"
   ]
  },
  {
   "cell_type": "code",
   "execution_count": 16,
   "metadata": {},
   "outputs": [
    {
     "data": {
      "text/html": [
       "<div>\n",
       "<style scoped>\n",
       "    .dataframe tbody tr th:only-of-type {\n",
       "        vertical-align: middle;\n",
       "    }\n",
       "\n",
       "    .dataframe tbody tr th {\n",
       "        vertical-align: top;\n",
       "    }\n",
       "\n",
       "    .dataframe thead th {\n",
       "        text-align: right;\n",
       "    }\n",
       "</style>\n",
       "<table border=\"1\" class=\"dataframe\">\n",
       "  <thead>\n",
       "    <tr style=\"text-align: right;\">\n",
       "      <th></th>\n",
       "      <th>numpy</th>\n",
       "      <th>pandas</th>\n",
       "    </tr>\n",
       "  </thead>\n",
       "  <tbody>\n",
       "    <tr>\n",
       "      <th>0</th>\n",
       "      <td>1.356234</td>\n",
       "      <td>0.120747</td>\n",
       "    </tr>\n",
       "    <tr>\n",
       "      <th>1</th>\n",
       "      <td>1.986511</td>\n",
       "      <td>0.135157</td>\n",
       "    </tr>\n",
       "    <tr>\n",
       "      <th>2</th>\n",
       "      <td>2.671196</td>\n",
       "      <td>0.014147</td>\n",
       "    </tr>\n",
       "    <tr>\n",
       "      <th>3</th>\n",
       "      <td>2.026101</td>\n",
       "      <td>0.758439</td>\n",
       "    </tr>\n",
       "    <tr>\n",
       "      <th>4</th>\n",
       "      <td>2.026101</td>\n",
       "      <td>0.160168</td>\n",
       "    </tr>\n",
       "  </tbody>\n",
       "</table>\n",
       "</div>"
      ],
      "text/plain": [
       "      numpy    pandas\n",
       "0  1.356234  0.120747\n",
       "1  1.986511  0.135157\n",
       "2  2.671196  0.014147\n",
       "3  2.026101  0.758439\n",
       "4  2.026101  0.160168"
      ]
     },
     "execution_count": 16,
     "metadata": {},
     "output_type": "execute_result"
    }
   ],
   "source": [
    "table = pd.DataFrame(columns=[\"numpy\", \"pandas\"])\n",
    "\n",
    "table[\"numpy\"] = execution_time_numpy\n",
    "table[\"pandas\"] = execution_time_pandas\n",
    "\n",
    "table"
   ]
  }
 ],
 "metadata": {
  "kernelspec": {
   "display_name": "Python 3 (ipykernel)",
   "language": "python",
   "name": "python3"
  },
  "language_info": {
   "codemirror_mode": {
    "name": "ipython",
    "version": 3
   },
   "file_extension": ".py",
   "mimetype": "text/x-python",
   "name": "python",
   "nbconvert_exporter": "python",
   "pygments_lexer": "ipython3",
   "version": "3.11.6"
  }
 },
 "nbformat": 4,
 "nbformat_minor": 4
}
